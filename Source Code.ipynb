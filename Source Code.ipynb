{
 "cells": [
  {
   "cell_type": "code",
   "execution_count": 1,
   "metadata": {
    "id": "LmtGVyJk0ZWw"
   },
   "outputs": [],
   "source": [
    "from random import shuffle # untuk mengacak nilai pada list \n",
    "import numpy as np # untuk memanipulasi array \n",
    "import matplotlib.pyplot as plt # untuk membuat dan menampilkan plot \n",
    "from collections import Counter # untuk menghitung banyak nilai dari list "
   ]
  },
  {
   "cell_type": "markdown",
   "metadata": {},
   "source": [
    "#### Inisialisasi variabel scalar "
   ]
  },
  {
   "cell_type": "code",
   "execution_count": 2,
   "metadata": {
    "id": "P2_1y8oqyz2g"
   },
   "outputs": [],
   "source": [
    "jumlah_individu = 200 # jumlah individu yang diobservasi\n",
    "rasio_infeksi = 0.05 # rasio individu terinfeksi\n",
    "prob_bergerak = 0.8 # probabilitas/kemungkinan individu bergerak\n",
    "waktu_pulih = 10 # batas waktu suatu individu dapat dikatakan pulih\n",
    "x_min = 0 # batas awal sumbu x\n",
    "x_max = 20 # batas akhir sumbu x\n",
    "y_min = 0 # batas awal sumbu y\n",
    "y_max = 20 # batas akhir sumbu y\n",
    "x_range = x_max - x_min # rentang nilai sumbu x\n",
    "y_range = y_max - y_min # rentang nilai sumbu y"
   ]
  },
  {
   "cell_type": "markdown",
   "metadata": {},
   "source": [
    "#### Inisialisasi variabel list"
   ]
  },
  {
   "cell_type": "code",
   "execution_count": 3,
   "metadata": {
    "id": "8uCo25T00tCW"
   },
   "outputs": [],
   "source": [
    "x = np.random.randint(low=x_min, high=x_max, size=jumlah_individu) # posisi x masing-masing individu\n",
    "y = np.random.randint(low=x_min, high=x_max, size=jumlah_individu) # posisi y masing-masing individu"
   ]
  },
  {
   "cell_type": "code",
   "execution_count": 4,
   "metadata": {
    "id": "0NMM7QMk6uYT"
   },
   "outputs": [],
   "source": [
    "# status kesehatan individu\n",
    "# membuat list status kesehatan individu yang terdiri dari nilai 0 dan 1 dengan keterangan sebagai berikut:\n",
    "# status = 0 (belum terinfeksi) *warna biru*\n",
    "# status = 1 (terinfeksi) *warna merah*\n",
    "status = [0] * int((1-rasio_infeksi)*jumlah_individu) + [1] * int((rasio_infeksi)*jumlah_individu) \n",
    "shuffle(status) # mengacak nilai di dalam list status \n",
    "# status imunitas individu\n",
    "# membuat list status imunitas individu yang diinisialisasikan dengan nilai 0 (belum punya imun) sebanyak individu \n",
    "# imun = 0 (tidak punya imun)\n",
    "# imun = 1 (punya imun)\n",
    "imun = [0 for i in range(jumlah_individu)]\n",
    "# membuat list untuk menyimpan waktu terinfeksi setiap individu\n",
    "waktu_terinfeksi = [0 for i in range(jumlah_individu)]"
   ]
  },
  {
   "cell_type": "markdown",
   "metadata": {},
   "source": [
    "#### Fungsi fungsi"
   ]
  },
  {
   "cell_type": "code",
   "execution_count": 5,
   "metadata": {},
   "outputs": [],
   "source": [
    "# membuat scatter plot persebaran individu dengan status 0 dan 1 dan disimpan pada folder sebaran\n",
    "def make_scatter(x,y,status,i):\n",
    "    colormap = np.array(['b', 'r'])\n",
    "    plt.scatter(x, y, s=25, c=colormap[status], alpha=0.5)\n",
    "    plt.title('Persebaran Hari ke-{:d}'.format(i), fontweight=\"bold\")\n",
    "    plt.savefig('./sebaran/fig_{:04d}.png'.format(i), format='png', dpi=1000, bbox_inches='tight')\n",
    "    plt.clf()"
   ]
  },
  {
   "cell_type": "code",
   "execution_count": 6,
   "metadata": {},
   "outputs": [],
   "source": [
    "# membuat line plot banyaknya individu terinfeksi disetiap harinya dan disimpan pada folder grafik\n",
    "def make_lineplot(day, n, i):\n",
    "    plt.plot(day,n)\n",
    "    plt.title('Grafik Hari ke-{:d}'.format(i), fontweight=\"bold\")\n",
    "    plt.xlabel('Hari')\n",
    "    plt.ylabel('Banyak Individu Terinfeksi')\n",
    "    plt.xlim(0,100)\n",
    "    plt.ylim(0,120)\n",
    "    plt.axhline(c='black')\n",
    "    plt.axvline(c='black')\n",
    "    plt.savefig('./grafik/fig_{:04d}.png'.format(i), format='png', dpi=1000, bbox_inches='tight')\n",
    "    plt.clf()"
   ]
  },
  {
   "cell_type": "code",
   "execution_count": 7,
   "metadata": {},
   "outputs": [],
   "source": [
    "# mengupdate posisi dari suatu individu \n",
    "def update_posisi(random_bergerak, x, y):\n",
    "    # jika bilangan random yang dihasilkan kurang dari probabilitas bergerak berarti individu tersebut bergerak.\n",
    "    # jika bergerak maka random kembali suatu bilangan antara 0-1 dan hasilnya akan menentukan arah geraknya \n",
    "    # dan mengembalikan nilai x dan y terbaru.\n",
    "    # jika tidak bergerak maka akan mengembalikan nilai x dan y tanpa diubah.\n",
    "    if random_bergerak <= prob_bergerak:\n",
    "        random_arah = np.random.rand()\n",
    "        # bergerak ke kanan\n",
    "        if random_arah <= 0.25:\n",
    "            x += 1\n",
    "        # bergerak ke bawah\n",
    "        elif random_arah <= 0.5:\n",
    "            y -= 1\n",
    "        # bergerak ke kiri\n",
    "        elif random_arah <= 0.75:\n",
    "            x -= 1\n",
    "        # bergerak ke atas\n",
    "        else:\n",
    "            y += 1\n",
    "    return x,y"
   ]
  },
  {
   "cell_type": "code",
   "execution_count": 8,
   "metadata": {},
   "outputs": [],
   "source": [
    "# mengkoreksi posisi dari suatu individu jika setelah diupdate nilainya diluar jangkauan yang dibatasi (20x20)\n",
    "def koreksi_posisi(x,y):\n",
    "    if x > x_max:\n",
    "        x -= x_range\n",
    "    if x < x_min:\n",
    "        x += x_range\n",
    "    if y > y_max:\n",
    "        y -= y_range\n",
    "    if y < y_min:\n",
    "        y += y_range\n",
    "    return x,y"
   ]
  },
  {
   "cell_type": "code",
   "execution_count": 9,
   "metadata": {},
   "outputs": [],
   "source": [
    "# menghitung jarak antara 2 individu\n",
    "def jarak(x1,y1,x2,y2):\n",
    "    return ((x1-x2)**2 + (y1-y2)**2)**0.5"
   ]
  },
  {
   "cell_type": "markdown",
   "metadata": {},
   "source": [
    "#### Program utama"
   ]
  },
  {
   "cell_type": "code",
   "execution_count": 10,
   "metadata": {},
   "outputs": [
    {
     "name": "stdout",
     "output_type": "stream",
     "text": [
      "Hari ke- 0 : 10\n",
      "Hari ke- 1 : 14\n",
      "Hari ke- 2 : 15\n",
      "Hari ke- 3 : 21\n",
      "Hari ke- 4 : 32\n",
      "Hari ke- 5 : 37\n",
      "Hari ke- 6 : 43\n",
      "Hari ke- 7 : 51\n",
      "Hari ke- 8 : 61\n",
      "Hari ke- 9 : 66\n",
      "Hari ke- 10 : 75\n",
      "Hari ke- 11 : 82\n",
      "Hari ke- 12 : 84\n",
      "Hari ke- 13 : 91\n",
      "Hari ke- 14 : 94\n",
      "Hari ke- 15 : 92\n",
      "Hari ke- 16 : 89\n",
      "Hari ke- 17 : 91\n",
      "Hari ke- 18 : 87\n",
      "Hari ke- 19 : 83\n",
      "Hari ke- 20 : 77\n",
      "Hari ke- 21 : 76\n",
      "Hari ke- 22 : 70\n",
      "Hari ke- 23 : 64\n",
      "Hari ke- 24 : 56\n",
      "Hari ke- 25 : 48\n",
      "Hari ke- 26 : 45\n",
      "Hari ke- 27 : 41\n",
      "Hari ke- 28 : 36\n",
      "Hari ke- 29 : 32\n",
      "Hari ke- 30 : 32\n",
      "Hari ke- 31 : 29\n",
      "Hari ke- 32 : 27\n",
      "Hari ke- 33 : 26\n",
      "Hari ke- 34 : 25\n",
      "Hari ke- 35 : 25\n",
      "Hari ke- 36 : 21\n",
      "Hari ke- 37 : 20\n",
      "Hari ke- 38 : 20\n",
      "Hari ke- 39 : 21\n",
      "Hari ke- 40 : 19\n",
      "Hari ke- 41 : 16\n",
      "Hari ke- 42 : 14\n",
      "Hari ke- 43 : 14\n",
      "Hari ke- 44 : 13\n",
      "Hari ke- 45 : 11\n",
      "Hari ke- 46 : 11\n",
      "Hari ke- 47 : 11\n",
      "Hari ke- 48 : 11\n",
      "Hari ke- 49 : 9\n",
      "Hari ke- 50 : 8\n",
      "Hari ke- 51 : 7\n",
      "Hari ke- 52 : 7\n",
      "Hari ke- 53 : 7\n",
      "Hari ke- 54 : 7\n",
      "Hari ke- 55 : 6\n",
      "Hari ke- 56 : 5\n",
      "Hari ke- 57 : 4\n",
      "Hari ke- 58 : 2\n",
      "Hari ke- 59 : 1\n",
      "Hari ke- 60 : 1\n",
      "Hari ke- 61 : 1\n",
      "Hari ke- 62 : 1\n",
      "Hari ke- 63 : 1\n",
      "Hari ke- 64 : 0\n"
     ]
    },
    {
     "data": {
      "text/plain": [
       "<Figure size 432x288 with 0 Axes>"
      ]
     },
     "metadata": {},
     "output_type": "display_data"
    }
   ],
   "source": [
    "# keadaan mula-mula\n",
    "day=0 \n",
    "days = [day]\n",
    "terinfeksi = int(0.05*jumlah_individu) # banyaknya individu terinfeksi (5% dari 200 individu)\n",
    "n = [terinfeksi]\n",
    "make_scatter(x,y,status,day) # persebaran pada keadaan mula-mula\n",
    "make_lineplot(days,n,day) # grafik kenaikan banyaknya individu terinfeksi \n",
    "print(\"Hari ke-\",day,\":\",terinfeksi)\n",
    "# iterasi selama masih ada yang terinfeksi\n",
    "while 1 in status:\n",
    "    # iterasi untuk semua individu\n",
    "    for i in range(jumlah_individu):\n",
    "        # update posisi x dan y berdasarkan probabilitas individu bergerak\n",
    "        new_posisi = update_posisi(np.random.rand(),x[i],y[i])\n",
    "        # Koreksi posisi dengan PBC\n",
    "        x[i], y[i] = koreksi_posisi(new_posisi[0],new_posisi[1])\n",
    "        # ketika status => 1 yang artinyanya individu terinfeksi\n",
    "        if status[i] == 1:\n",
    "            # maka cek waktu terinfeksinya, jika waktu terinfeksinya lebih dari waktu pulih (10 hari) \n",
    "            if waktu_terinfeksi[i] > waktu_pulih:\n",
    "                # maka ubah statusnya menjadi pulih / tidak terinfeksi (0) dan individu tersebut memiliki imun (1)\n",
    "                status[i] = 0\n",
    "                imun[i] = 1\n",
    "            else:\n",
    "                # jika waktu terinfeksinya kurang dari sama dengan waktu pulih maka tambah 1 waktu terinfeksinya\n",
    "                waktu_terinfeksi[i] +=1\n",
    "        # ketika status => 0 yang artinya individu sehat / tidak terinfeksi\n",
    "        elif status[i] == 0:\n",
    "            # ambil indeks dari individu2 yang terinfeksi \n",
    "            indeks_terinfeksi = [j for j in range(len(status)) if status[j] == 1]\n",
    "            # kemudian untuk setiap individu terinfeksi lakukan:\n",
    "            for idx in indeks_terinfeksi:\n",
    "                # hitung jaraknya dengan individu yang diobservasi\n",
    "                # jika jaraknya 0 (berada pada posisi yang sama) dan individu yang diobservasi tidak memiliki imun\n",
    "                if jarak(x[i],y[i],x[idx],y[idx]) == 0 and imun[i] == 0:\n",
    "                    # maka ubah statusnya menjadi terinfeksi (1) dan keluar dari perulangan for\n",
    "                    status[i] = 1\n",
    "                    break\n",
    "                else:\n",
    "                    # jika tidak memenuhi kondisi di atas maka statusnya tetap tidak terinfeksi (0)\n",
    "                    status[i] = 0\n",
    "    # tambah hari observasi\n",
    "    day += 1\n",
    "    # masukkan ke list untuk membuat line plot\n",
    "    days.append(day)\n",
    "    # hitung jumlah individu terinfeksi\n",
    "    ket = Counter(status)\n",
    "    # masukkan banyak indivisu terinfeksi ke list untuk membuat line plot\n",
    "    n.append(ket[1])\n",
    "    # buat scatter plot persebaran posisi saat iterasi ini\n",
    "    make_scatter(x,y,status,day)\n",
    "    # buat line plot grafik banyak individu terinfeksi saat iterasi ini\n",
    "    make_lineplot(days,n,day)\n",
    "    print(\"Hari ke-\",day,\":\",ket[1])"
   ]
  }
 ],
 "metadata": {
  "colab": {
   "collapsed_sections": [],
   "name": "Coba random walk.ipynb",
   "provenance": []
  },
  "kernelspec": {
   "display_name": "Python 3",
   "language": "python",
   "name": "python3"
  },
  "language_info": {
   "codemirror_mode": {
    "name": "ipython",
    "version": 3
   },
   "file_extension": ".py",
   "mimetype": "text/x-python",
   "name": "python",
   "nbconvert_exporter": "python",
   "pygments_lexer": "ipython3",
   "version": "3.7.4"
  }
 },
 "nbformat": 4,
 "nbformat_minor": 1
}
